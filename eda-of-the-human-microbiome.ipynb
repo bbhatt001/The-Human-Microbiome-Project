{
 "cells": [
  {
   "cell_type": "markdown",
   "metadata": {
    "_uuid": "f423fa6d29bdc5bd529e4c3ba775dff5ec46c02f"
   },
   "source": [
    "## Introduction\n",
    "Human body is a complex and fascinating machine. According to a [2016 research](https://journals.plos.org/plosbiology/article?id=10.1371/journal.pbio.1002533), there are 30 trillion cells in a 70kg man and and along with these cells, we are inhabited with almost the same number of bacterial cells. Other than bacteria we are also colonised by fungi, protists and viruses. These microbes govern a range of functions in health, disease and our behaviour. So, how about taking a journey and analyse this amazing world of human microbiota through a lens of data science?\n",
    "In this notebook, we will explore a data set that is available on Amazon Web Services (AWS) and added to this repository. The data has been collected from 300 individuals and various genetic analysis have been done to analyse the microbes that inhabit various regions of the human body."
   ]
  },
  {
   "cell_type": "markdown",
   "metadata": {
    "_uuid": "e17e070bff4fdd72e48df6b0d26895c1eef2ad97"
   },
   "source": [
    "### Objective \n",
    "Here, we will try to answer some interesting questions, such as -\n",
    "i) Human body site showing most microbial diversity \n",
    "ii) The most common genus (taxonomic rank that comes above species) of microorganism found in the human body\n",
    "iii) Most ubiquitous microbe in the human body\n"
   ]
  },
  {
   "cell_type": "markdown",
   "metadata": {
    "_uuid": "0500f0119484fcff86a446e71a874c1e2175c73f"
   },
   "source": [
    "### Import the necessary modules \n",
    "Import the necessary modules and read the data. "
   ]
  },
  {
   "cell_type": "code",
   "execution_count": 1,
   "metadata": {
    "_uuid": "7998c6abd616fd71caf608ecf12ec7748fcbe65e"
   },
   "outputs": [],
   "source": [
    "%matplotlib inline  \n",
    "import pandas as pd\n",
    "import matplotlib.pyplot as plt\n",
    "import numpy as np\n",
    "import seaborn as sns\n",
    "import warnings\n",
    "warnings.filterwarnings('ignore')\n",
    "\n",
    "micro=pd.read_csv('project_catalog.csv')\n",
    "pd.set_option('display.max_rows', None, 'display.max_columns', None)\n"
   ]
  },
  {
   "cell_type": "markdown",
   "metadata": {
    "_uuid": "965846a656bdbdb9d910667426c767ea5fc0af1d"
   },
   "source": [
    "We then check how the data looks like by checking its the shape, its columns and the amount of missing data."
   ]
  },
  {
   "cell_type": "code",
   "execution_count": 2,
   "metadata": {
    "_uuid": "770fb3246c243be922b649e7c09f6429eb28c881",
    "scrolled": true
   },
   "outputs": [
    {
     "data": {
      "text/plain": [
       "(2915, 17)"
      ]
     },
     "execution_count": 2,
     "metadata": {},
     "output_type": "execute_result"
    }
   ],
   "source": [
    "micro.shape"
   ]
  },
  {
   "cell_type": "code",
   "execution_count": 3,
   "metadata": {
    "_uuid": "a611b0439e7064930d76c9f66cb730a5749f731f"
   },
   "outputs": [
    {
     "data": {
      "text/plain": [
       "Index(['HMP ID', 'GOLD ID', 'Organism Name', 'Domain', 'NCBI Superkingdom',\n",
       "       'HMP Isolation Body Site', 'Project Status', 'Current Finishing Level',\n",
       "       'NCBI Submission Status', 'NCBI Project ID', 'Genbank ID', 'Gene Count',\n",
       "       'IMG/HMP ID', 'HOMD ID', 'Sequencing Center', 'Funding Source',\n",
       "       'Strain Repository ID'],\n",
       "      dtype='object')"
      ]
     },
     "execution_count": 3,
     "metadata": {},
     "output_type": "execute_result"
    }
   ],
   "source": [
    "micro.columns "
   ]
  },
  {
   "cell_type": "code",
   "execution_count": 4,
   "metadata": {
    "_uuid": "94532e2e298e5ab498e19af8b3822af0e20f9557",
    "scrolled": true
   },
   "outputs": [
    {
     "data": {
      "text/html": [
       "<div>\n",
       "<style scoped>\n",
       "    .dataframe tbody tr th:only-of-type {\n",
       "        vertical-align: middle;\n",
       "    }\n",
       "\n",
       "    .dataframe tbody tr th {\n",
       "        vertical-align: top;\n",
       "    }\n",
       "\n",
       "    .dataframe thead th {\n",
       "        text-align: right;\n",
       "    }\n",
       "</style>\n",
       "<table border=\"1\" class=\"dataframe\">\n",
       "  <thead>\n",
       "    <tr style=\"text-align: right;\">\n",
       "      <th></th>\n",
       "      <th>HMP ID</th>\n",
       "      <th>GOLD ID</th>\n",
       "      <th>Organism Name</th>\n",
       "      <th>Domain</th>\n",
       "      <th>NCBI Superkingdom</th>\n",
       "      <th>HMP Isolation Body Site</th>\n",
       "      <th>Project Status</th>\n",
       "      <th>Current Finishing Level</th>\n",
       "      <th>NCBI Submission Status</th>\n",
       "      <th>NCBI Project ID</th>\n",
       "      <th>Genbank ID</th>\n",
       "      <th>Gene Count</th>\n",
       "      <th>IMG/HMP ID</th>\n",
       "      <th>HOMD ID</th>\n",
       "      <th>Sequencing Center</th>\n",
       "      <th>Funding Source</th>\n",
       "      <th>Strain Repository ID</th>\n",
       "    </tr>\n",
       "  </thead>\n",
       "  <tbody>\n",
       "    <tr>\n",
       "      <th>0</th>\n",
       "      <td>1</td>\n",
       "      <td>Gi03551</td>\n",
       "      <td>Abiotrophia defectiva ATCC 49176</td>\n",
       "      <td>BACTERIAL</td>\n",
       "      <td>Bacteria</td>\n",
       "      <td>oral</td>\n",
       "      <td>Complete</td>\n",
       "      <td>Level 3: Improved-High-Quality Draft</td>\n",
       "      <td>6. annotation (and sequence) public on NCBI site</td>\n",
       "      <td>33011</td>\n",
       "      <td>ACIN00000000</td>\n",
       "      <td>1950</td>\n",
       "      <td>643886181</td>\n",
       "      <td>HOMD: tax_389</td>\n",
       "      <td>Washington University Genome Sequencing Center</td>\n",
       "      <td>NIH-HMP Jumpstart Supplement</td>\n",
       "      <td>ATCC 49176, CIP 103242</td>\n",
       "    </tr>\n",
       "    <tr>\n",
       "      <th>1</th>\n",
       "      <td>4</td>\n",
       "      <td>Gi03555</td>\n",
       "      <td>Achromobacter piechaudii ATCC 43553</td>\n",
       "      <td>BACTERIAL</td>\n",
       "      <td>Bacteria</td>\n",
       "      <td>airways</td>\n",
       "      <td>Complete</td>\n",
       "      <td>Level 2: High-Quality Draft</td>\n",
       "      <td>6. annotation (and sequence) public on NCBI site</td>\n",
       "      <td>46343</td>\n",
       "      <td>ADMS00000000</td>\n",
       "      <td>5755</td>\n",
       "      <td>647000200</td>\n",
       "      <td>NaN</td>\n",
       "      <td>Baylor College of Medicine</td>\n",
       "      <td>NIH-HMP Jumpstart Supplement</td>\n",
       "      <td>ATCC 43553, CIP 55774, LMG 6100</td>\n",
       "    </tr>\n",
       "  </tbody>\n",
       "</table>\n",
       "</div>"
      ],
      "text/plain": [
       "   HMP ID  GOLD ID                        Organism Name     Domain  \\\n",
       "0       1  Gi03551     Abiotrophia defectiva ATCC 49176  BACTERIAL   \n",
       "1       4  Gi03555  Achromobacter piechaudii ATCC 43553  BACTERIAL   \n",
       "\n",
       "  NCBI Superkingdom HMP Isolation Body Site Project Status  \\\n",
       "0          Bacteria                    oral       Complete   \n",
       "1          Bacteria                 airways       Complete   \n",
       "\n",
       "                Current Finishing Level  \\\n",
       "0  Level 3: Improved-High-Quality Draft   \n",
       "1           Level 2: High-Quality Draft   \n",
       "\n",
       "                             NCBI Submission Status  NCBI Project ID  \\\n",
       "0  6. annotation (and sequence) public on NCBI site            33011   \n",
       "1  6. annotation (and sequence) public on NCBI site            46343   \n",
       "\n",
       "     Genbank ID  Gene Count  IMG/HMP ID        HOMD ID  \\\n",
       "0  ACIN00000000        1950   643886181  HOMD: tax_389   \n",
       "1  ADMS00000000        5755   647000200            NaN   \n",
       "\n",
       "                                Sequencing Center  \\\n",
       "0  Washington University Genome Sequencing Center   \n",
       "1                      Baylor College of Medicine   \n",
       "\n",
       "                 Funding Source             Strain Repository ID  \n",
       "0  NIH-HMP Jumpstart Supplement           ATCC 49176, CIP 103242  \n",
       "1  NIH-HMP Jumpstart Supplement  ATCC 43553, CIP 55774, LMG 6100  "
      ]
     },
     "execution_count": 4,
     "metadata": {},
     "output_type": "execute_result"
    }
   ],
   "source": [
    "micro.head(2)"
   ]
  },
  {
   "cell_type": "code",
   "execution_count": 5,
   "metadata": {
    "_uuid": "09be4a108f299a42edd9f5d8acaf77249b4abcb7",
    "scrolled": true
   },
   "outputs": [
    {
     "name": "stdout",
     "output_type": "stream",
     "text": [
      "<class 'pandas.core.frame.DataFrame'>\n",
      "RangeIndex: 2915 entries, 0 to 2914\n",
      "Data columns (total 17 columns):\n",
      "HMP ID                     2915 non-null int64\n",
      "GOLD ID                    1783 non-null object\n",
      "Organism Name              2915 non-null object\n",
      "Domain                     2712 non-null object\n",
      "NCBI Superkingdom          2751 non-null object\n",
      "HMP Isolation Body Site    2915 non-null object\n",
      "Project Status             2915 non-null object\n",
      "Current Finishing Level    1579 non-null object\n",
      "NCBI Submission Status     2915 non-null object\n",
      "NCBI Project ID            2915 non-null int64\n",
      "Genbank ID                 1579 non-null object\n",
      "Gene Count                 2915 non-null int64\n",
      "IMG/HMP ID                 2915 non-null int64\n",
      "HOMD ID                    397 non-null object\n",
      "Sequencing Center          2911 non-null object\n",
      "Funding Source             2915 non-null object\n",
      "Strain Repository ID       1377 non-null object\n",
      "dtypes: int64(4), object(13)\n",
      "memory usage: 387.2+ KB\n"
     ]
    }
   ],
   "source": [
    "micro.info()"
   ]
  },
  {
   "cell_type": "markdown",
   "metadata": {
    "_uuid": "867054478083e3653e9064af3006ff9e4dabddc8"
   },
   "source": [
    "We then check the statistics for Gene count (it has no missing data). From this, it is evident that minimum gene count is 0. How?"
   ]
  },
  {
   "cell_type": "code",
   "execution_count": 6,
   "metadata": {
    "_uuid": "2d0d2d6eb609f6d047ad07082faa93f87ce7e783",
    "scrolled": true
   },
   "outputs": [
    {
     "data": {
      "text/plain": [
       "count    2915.000000\n",
       "mean     1474.622642\n",
       "std      1653.762393\n",
       "min         0.000000\n",
       "25%         0.000000\n",
       "50%      1517.000000\n",
       "75%      2489.500000\n",
       "max      8490.000000\n",
       "Name: Gene Count, dtype: float64"
      ]
     },
     "execution_count": 6,
     "metadata": {},
     "output_type": "execute_result"
    }
   ],
   "source": [
    "micro['Gene Count'].describe()"
   ]
  },
  {
   "cell_type": "markdown",
   "metadata": {
    "_uuid": "333874449d52c309e9ff45a6ca7322fe157b5634"
   },
   "source": [
    "Digging further it is evident that 1331 Bacteria have 0 gene count followed by 8 eukaryotes and 6 viruses. "
   ]
  },
  {
   "cell_type": "code",
   "execution_count": 7,
   "metadata": {
    "_uuid": "dc657c4cebc69fe1b8bbd3ccf559d0c589fe94c8"
   },
   "outputs": [
    {
     "data": {
      "text/plain": [
       "Bacteria     1331\n",
       "Eukaryota       8\n",
       "Viruses         6\n",
       "Name: NCBI Superkingdom, dtype: int64"
      ]
     },
     "execution_count": 7,
     "metadata": {},
     "output_type": "execute_result"
    }
   ],
   "source": [
    "micro_gene_count=micro[micro['Gene Count']==0]\n",
    "micro_gene_count['NCBI Superkingdom'].value_counts()"
   ]
  },
  {
   "cell_type": "markdown",
   "metadata": {
    "_uuid": "becb4476041367f44213d37ce39295c047342b61"
   },
   "source": [
    "I was curious to check if the reason of 0 gene count is correlated with the project status. It appears that the reason behid 0 gene count  for 1284bacteria, 4 eukaryotes, 1virus could be that the pojects are still in progress (when they released the data)."
   ]
  },
  {
   "cell_type": "code",
   "execution_count": 8,
   "metadata": {
    "_uuid": "0f3e47b64a27f8daeb52d63b58c24789f97d545d",
    "scrolled": true
   },
   "outputs": [
    {
     "data": {
      "text/plain": [
       "Bacteria     1284\n",
       "Eukaryota       4\n",
       "Viruses         1\n",
       "Name: NCBI Superkingdom, dtype: int64"
      ]
     },
     "execution_count": 8,
     "metadata": {},
     "output_type": "execute_result"
    }
   ],
   "source": [
    "micro_no_gene_progress= micro[(micro['Gene Count']==0) & (micro['Project Status']=='In Progress')]\n",
    "micro_no_gene_progress['NCBI Superkingdom'].value_counts()"
   ]
  },
  {
   "cell_type": "markdown",
   "metadata": {
    "_uuid": "3b92777e421e1eb1bc5d66e821a039b22ba21bdc"
   },
   "source": [
    "But for 47 bacteria, 5 viruses, 4 eukaryotes the project has been completed. Thus, the reason could be a reporting error."
   ]
  },
  {
   "cell_type": "code",
   "execution_count": 9,
   "metadata": {
    "_uuid": "0c99d405d7833e626a43dd6fb6de3eec0f7f0f9f"
   },
   "outputs": [
    {
     "data": {
      "text/plain": [
       "Bacteria     47\n",
       "Viruses       5\n",
       "Eukaryota     4\n",
       "Name: NCBI Superkingdom, dtype: int64"
      ]
     },
     "execution_count": 9,
     "metadata": {},
     "output_type": "execute_result"
    }
   ],
   "source": [
    "micro_no_gene_complete=micro[(micro['Gene Count']==0) & (micro['Project Status']=='Complete')]\n",
    "micro_no_gene_complete['NCBI Superkingdom'].value_counts()"
   ]
  },
  {
   "cell_type": "markdown",
   "metadata": {
    "_uuid": "312613cd5d2c085ec2574f1ae0a01c5a2a503e27"
   },
   "source": [
    "Next, I found out that the microorganism with the highest gene count is *Streptomyces* sp. HGB0020, with 8490 genes and which lives in the gastrointestinal tract."
   ]
  },
  {
   "cell_type": "code",
   "execution_count": 10,
   "metadata": {
    "_uuid": "9892600aaac45c102936c8d09ac94104815d7185",
    "scrolled": false
   },
   "outputs": [
    {
     "data": {
      "text/html": [
       "<div>\n",
       "<style scoped>\n",
       "    .dataframe tbody tr th:only-of-type {\n",
       "        vertical-align: middle;\n",
       "    }\n",
       "\n",
       "    .dataframe tbody tr th {\n",
       "        vertical-align: top;\n",
       "    }\n",
       "\n",
       "    .dataframe thead th {\n",
       "        text-align: right;\n",
       "    }\n",
       "</style>\n",
       "<table border=\"1\" class=\"dataframe\">\n",
       "  <thead>\n",
       "    <tr style=\"text-align: right;\">\n",
       "      <th></th>\n",
       "      <th>HMP ID</th>\n",
       "      <th>GOLD ID</th>\n",
       "      <th>Organism Name</th>\n",
       "      <th>Domain</th>\n",
       "      <th>NCBI Superkingdom</th>\n",
       "      <th>HMP Isolation Body Site</th>\n",
       "      <th>Project Status</th>\n",
       "      <th>Current Finishing Level</th>\n",
       "      <th>NCBI Submission Status</th>\n",
       "      <th>NCBI Project ID</th>\n",
       "      <th>Genbank ID</th>\n",
       "      <th>Gene Count</th>\n",
       "      <th>IMG/HMP ID</th>\n",
       "      <th>HOMD ID</th>\n",
       "      <th>Sequencing Center</th>\n",
       "      <th>Funding Source</th>\n",
       "      <th>Strain Repository ID</th>\n",
       "    </tr>\n",
       "  </thead>\n",
       "  <tbody>\n",
       "    <tr>\n",
       "      <th>679</th>\n",
       "      <td>1211</td>\n",
       "      <td>Gi10716</td>\n",
       "      <td>Streptomyces sp. HGB0020</td>\n",
       "      <td>BACTERIAL</td>\n",
       "      <td>Bacteria</td>\n",
       "      <td>gastrointestinal_tract</td>\n",
       "      <td>Complete</td>\n",
       "      <td>Level 2: High-Quality Draft</td>\n",
       "      <td>6. annotation (and sequence) public on NCBI site</td>\n",
       "      <td>72491</td>\n",
       "      <td>AGER00000000</td>\n",
       "      <td>8490</td>\n",
       "      <td>0</td>\n",
       "      <td>NaN</td>\n",
       "      <td>Broad Institute</td>\n",
       "      <td>NIH-HMP Sequencing Center</td>\n",
       "      <td>BEI HM-789</td>\n",
       "    </tr>\n",
       "  </tbody>\n",
       "</table>\n",
       "</div>"
      ],
      "text/plain": [
       "     HMP ID  GOLD ID             Organism Name     Domain NCBI Superkingdom  \\\n",
       "679    1211  Gi10716  Streptomyces sp. HGB0020  BACTERIAL          Bacteria   \n",
       "\n",
       "    HMP Isolation Body Site Project Status      Current Finishing Level  \\\n",
       "679  gastrointestinal_tract       Complete  Level 2: High-Quality Draft   \n",
       "\n",
       "                               NCBI Submission Status  NCBI Project ID  \\\n",
       "679  6. annotation (and sequence) public on NCBI site            72491   \n",
       "\n",
       "       Genbank ID  Gene Count  IMG/HMP ID HOMD ID Sequencing Center  \\\n",
       "679  AGER00000000        8490           0     NaN   Broad Institute   \n",
       "\n",
       "                Funding Source Strain Repository ID  \n",
       "679  NIH-HMP Sequencing Center           BEI HM-789  "
      ]
     },
     "execution_count": 10,
     "metadata": {},
     "output_type": "execute_result"
    }
   ],
   "source": [
    "micro[micro['Gene Count']==8490]"
   ]
  },
  {
   "cell_type": "markdown",
   "metadata": {
    "_uuid": "a92fc5abb834052d5234990e75022dc332332888"
   },
   "source": [
    "Next, I found that the research found 16 human body sites, with most diversity shown in the gastrointestinal tract."
   ]
  },
  {
   "cell_type": "code",
   "execution_count": 11,
   "metadata": {
    "_uuid": "7b5075a363a46efd00394d09664cabd84b481b9b"
   },
   "outputs": [
    {
     "data": {
      "text/plain": [
       "16"
      ]
     },
     "execution_count": 11,
     "metadata": {},
     "output_type": "execute_result"
    }
   ],
   "source": [
    "micro['HMP Isolation Body Site'].nunique()"
   ]
  },
  {
   "cell_type": "code",
   "execution_count": 12,
   "metadata": {
    "_uuid": "a60a619dbc406136ceb7dd587268c7418bd43838",
    "scrolled": true
   },
   "outputs": [
    {
     "data": {
      "text/plain": [
       "gastrointestinal_tract    745\n",
       "unknown                   654\n",
       "urogenital_tract          529\n",
       "oral                      347\n",
       "skin                      267\n",
       "airways                   236\n",
       "blood                      75\n",
       "bone                       27\n",
       "other                      13\n",
       "eye                         8\n",
       "ear                         4\n",
       "wound                       4\n",
       "nose                        2\n",
       "heart                       2\n",
       "liver                       1\n",
       "lymph_nodes                 1\n",
       "Name: HMP Isolation Body Site, dtype: int64"
      ]
     },
     "execution_count": 12,
     "metadata": {},
     "output_type": "execute_result"
    }
   ],
   "source": [
    "micro['HMP Isolation Body Site'].value_counts()"
   ]
  },
  {
   "cell_type": "code",
   "execution_count": 13,
   "metadata": {
    "_uuid": "c227e654a3e859521d3701af95a72c50d4994798"
   },
   "outputs": [
    {
     "data": {
      "text/plain": [
       "Text(0.5,1,'Diversity of microorganisms at different body sites')"
      ]
     },
     "execution_count": 13,
     "metadata": {},
     "output_type": "execute_result"
    },
    {
     "data": {
      "image/png": "[encoded data removed]",
      "text/plain": [
       "<Figure size 432x288 with 1 Axes>"
      ]
     },
     "metadata": {},
     "output_type": "display_data"
    }
   ],
   "source": [
    "micro['HMP Isolation Body Site'].value_counts().plot(kind='bar')\n",
    "plt.title('Distribution of microorganisms in various body sites')\n",
    "plt.ylabel('Number of different microbes')\n",
    "plt.xlabel('Human body sites')\n",
    "plt.title('Diversity of microorganisms at different body sites')"
   ]
  },
  {
   "cell_type": "markdown",
   "metadata": {
    "_uuid": "11884c869bf1451d82f8c50ce10d3703abeac3cf"
   },
   "source": [
    "Next, I was interested in finding the most common genus. A scientific name is made up of 2 parts - genus name followed by scientific name."
   ]
  },
  {
   "cell_type": "code",
   "execution_count": 14,
   "metadata": {
    "_uuid": "607d016b7d9af4ddb13d3bc1e7d9d141cfa83fbd"
   },
   "outputs": [
    {
     "data": {
      "text/html": [
       "<div>\n",
       "<style scoped>\n",
       "    .dataframe tbody tr th:only-of-type {\n",
       "        vertical-align: middle;\n",
       "    }\n",
       "\n",
       "    .dataframe tbody tr th {\n",
       "        vertical-align: top;\n",
       "    }\n",
       "\n",
       "    .dataframe thead th {\n",
       "        text-align: right;\n",
       "    }\n",
       "</style>\n",
       "<table border=\"1\" class=\"dataframe\">\n",
       "  <thead>\n",
       "    <tr style=\"text-align: right;\">\n",
       "      <th></th>\n",
       "      <th>Genus</th>\n",
       "      <th>species</th>\n",
       "    </tr>\n",
       "  </thead>\n",
       "  <tbody>\n",
       "    <tr>\n",
       "      <th>0</th>\n",
       "      <td>Abiotrophia</td>\n",
       "      <td>defectiva</td>\n",
       "    </tr>\n",
       "    <tr>\n",
       "      <th>1</th>\n",
       "      <td>Achromobacter</td>\n",
       "      <td>piechaudii</td>\n",
       "    </tr>\n",
       "    <tr>\n",
       "      <th>2</th>\n",
       "      <td>Achromobacter</td>\n",
       "      <td>xylosoxidans</td>\n",
       "    </tr>\n",
       "    <tr>\n",
       "      <th>3</th>\n",
       "      <td>Acinetobacter</td>\n",
       "      <td>baumannii</td>\n",
       "    </tr>\n",
       "    <tr>\n",
       "      <th>4</th>\n",
       "      <td>Acinetobacter</td>\n",
       "      <td>calcoaceticus</td>\n",
       "    </tr>\n",
       "  </tbody>\n",
       "</table>\n",
       "</div>"
      ],
      "text/plain": [
       "           Genus        species\n",
       "0    Abiotrophia      defectiva\n",
       "1  Achromobacter     piechaudii\n",
       "2  Achromobacter   xylosoxidans\n",
       "3  Acinetobacter      baumannii\n",
       "4  Acinetobacter  calcoaceticus"
      ]
     },
     "execution_count": 14,
     "metadata": {},
     "output_type": "execute_result"
    }
   ],
   "source": [
    "micro['Genus']= micro['Organism Name'].str.split(' ').str[0]\n",
    "micro['species']=micro['Organism Name'].str.split(' ').str[1]\n",
    "micro[['Genus','species']].head()"
   ]
  },
  {
   "cell_type": "markdown",
   "metadata": {
    "_uuid": "f96f48ec023dcb7ae58ed63e50254ae98822d027"
   },
   "source": [
    "There are 242 genera found, with *Streptococcus* being the most common genus in the human body."
   ]
  },
  {
   "cell_type": "code",
   "execution_count": 15,
   "metadata": {
    "_uuid": "1d4ce103b2589163dcd0bf2a03abffd2ebe23618"
   },
   "outputs": [
    {
     "data": {
      "text/plain": [
       "242"
      ]
     },
     "execution_count": 15,
     "metadata": {},
     "output_type": "execute_result"
    }
   ],
   "source": [
    "micro['Genus'].nunique()"
   ]
  },
  {
   "cell_type": "code",
   "execution_count": 16,
   "metadata": {
    "_uuid": "63b400c025e0f4d7a55029aca0d165d87723c102",
    "scrolled": true
   },
   "outputs": [
    {
     "data": {
      "text/plain": [
       "Streptococcus        268\n",
       "Staphylococcus       260\n",
       "Enterococcus         178\n",
       "Corynebacterium      132\n",
       "Propionibacterium    104\n",
       "Lactobacillus         97\n",
       "Clostridium           94\n",
       "Prevotella            83\n",
       "Bacteroides           73\n",
       "Helicobacter          70\n",
       "Name: Genus, dtype: int64"
      ]
     },
     "execution_count": 16,
     "metadata": {},
     "output_type": "execute_result"
    }
   ],
   "source": [
    "micro['Genus'].value_counts().head(10)"
   ]
  },
  {
   "cell_type": "markdown",
   "metadata": {
    "_uuid": "2ce65b8de3c334854b4b4a4cf753af8f99c07cf2"
   },
   "source": [
    "Before proceeding further, I checked for the unique values in 'NCBI Superkingdom' column. There are 3 observations labeled 'Error!!!' for this column."
   ]
  },
  {
   "cell_type": "code",
   "execution_count": 17,
   "metadata": {
    "_uuid": "21b1fe43e0d77f79319db0be4a008494f0ff8585"
   },
   "outputs": [
    {
     "data": {
      "text/html": [
       "<div>\n",
       "<style scoped>\n",
       "    .dataframe tbody tr th:only-of-type {\n",
       "        vertical-align: middle;\n",
       "    }\n",
       "\n",
       "    .dataframe tbody tr th {\n",
       "        vertical-align: top;\n",
       "    }\n",
       "\n",
       "    .dataframe thead th {\n",
       "        text-align: right;\n",
       "    }\n",
       "</style>\n",
       "<table border=\"1\" class=\"dataframe\">\n",
       "  <thead>\n",
       "    <tr style=\"text-align: right;\">\n",
       "      <th></th>\n",
       "      <th>HMP ID</th>\n",
       "      <th>GOLD ID</th>\n",
       "      <th>Organism Name</th>\n",
       "      <th>Domain</th>\n",
       "      <th>HMP Isolation Body Site</th>\n",
       "      <th>Project Status</th>\n",
       "      <th>Current Finishing Level</th>\n",
       "      <th>NCBI Submission Status</th>\n",
       "      <th>NCBI Project ID</th>\n",
       "      <th>Genbank ID</th>\n",
       "      <th>Gene Count</th>\n",
       "      <th>IMG/HMP ID</th>\n",
       "      <th>HOMD ID</th>\n",
       "      <th>Sequencing Center</th>\n",
       "      <th>Funding Source</th>\n",
       "      <th>Strain Repository ID</th>\n",
       "      <th>Genus</th>\n",
       "      <th>species</th>\n",
       "    </tr>\n",
       "    <tr>\n",
       "      <th>NCBI Superkingdom</th>\n",
       "      <th></th>\n",
       "      <th></th>\n",
       "      <th></th>\n",
       "      <th></th>\n",
       "      <th></th>\n",
       "      <th></th>\n",
       "      <th></th>\n",
       "      <th></th>\n",
       "      <th></th>\n",
       "      <th></th>\n",
       "      <th></th>\n",
       "      <th></th>\n",
       "      <th></th>\n",
       "      <th></th>\n",
       "      <th></th>\n",
       "      <th></th>\n",
       "      <th></th>\n",
       "      <th></th>\n",
       "    </tr>\n",
       "  </thead>\n",
       "  <tbody>\n",
       "    <tr>\n",
       "      <th>Archaea</th>\n",
       "      <td>2</td>\n",
       "      <td>2</td>\n",
       "      <td>2</td>\n",
       "      <td>2</td>\n",
       "      <td>2</td>\n",
       "      <td>2</td>\n",
       "      <td>2</td>\n",
       "      <td>2</td>\n",
       "      <td>2</td>\n",
       "      <td>2</td>\n",
       "      <td>2</td>\n",
       "      <td>2</td>\n",
       "      <td>0</td>\n",
       "      <td>2</td>\n",
       "      <td>2</td>\n",
       "      <td>2</td>\n",
       "      <td>2</td>\n",
       "      <td>2</td>\n",
       "    </tr>\n",
       "    <tr>\n",
       "      <th>Bacteria</th>\n",
       "      <td>2732</td>\n",
       "      <td>1656</td>\n",
       "      <td>2732</td>\n",
       "      <td>2546</td>\n",
       "      <td>2732</td>\n",
       "      <td>2732</td>\n",
       "      <td>1448</td>\n",
       "      <td>2732</td>\n",
       "      <td>2732</td>\n",
       "      <td>1448</td>\n",
       "      <td>2732</td>\n",
       "      <td>2732</td>\n",
       "      <td>385</td>\n",
       "      <td>2728</td>\n",
       "      <td>2732</td>\n",
       "      <td>1296</td>\n",
       "      <td>2732</td>\n",
       "      <td>2732</td>\n",
       "    </tr>\n",
       "    <tr>\n",
       "      <th>Error!!!</th>\n",
       "      <td>3</td>\n",
       "      <td>3</td>\n",
       "      <td>3</td>\n",
       "      <td>3</td>\n",
       "      <td>3</td>\n",
       "      <td>3</td>\n",
       "      <td>3</td>\n",
       "      <td>3</td>\n",
       "      <td>3</td>\n",
       "      <td>3</td>\n",
       "      <td>3</td>\n",
       "      <td>3</td>\n",
       "      <td>3</td>\n",
       "      <td>3</td>\n",
       "      <td>3</td>\n",
       "      <td>3</td>\n",
       "      <td>3</td>\n",
       "      <td>3</td>\n",
       "    </tr>\n",
       "    <tr>\n",
       "      <th>Eukaryota</th>\n",
       "      <td>8</td>\n",
       "      <td>8</td>\n",
       "      <td>8</td>\n",
       "      <td>8</td>\n",
       "      <td>8</td>\n",
       "      <td>8</td>\n",
       "      <td>4</td>\n",
       "      <td>8</td>\n",
       "      <td>8</td>\n",
       "      <td>4</td>\n",
       "      <td>8</td>\n",
       "      <td>8</td>\n",
       "      <td>0</td>\n",
       "      <td>8</td>\n",
       "      <td>8</td>\n",
       "      <td>2</td>\n",
       "      <td>8</td>\n",
       "      <td>8</td>\n",
       "    </tr>\n",
       "    <tr>\n",
       "      <th>Viruses</th>\n",
       "      <td>6</td>\n",
       "      <td>0</td>\n",
       "      <td>6</td>\n",
       "      <td>6</td>\n",
       "      <td>6</td>\n",
       "      <td>6</td>\n",
       "      <td>5</td>\n",
       "      <td>6</td>\n",
       "      <td>6</td>\n",
       "      <td>5</td>\n",
       "      <td>6</td>\n",
       "      <td>6</td>\n",
       "      <td>0</td>\n",
       "      <td>6</td>\n",
       "      <td>6</td>\n",
       "      <td>6</td>\n",
       "      <td>6</td>\n",
       "      <td>6</td>\n",
       "    </tr>\n",
       "  </tbody>\n",
       "</table>\n",
       "</div>"
      ],
      "text/plain": [
       "                   HMP ID  GOLD ID  Organism Name  Domain  \\\n",
       "NCBI Superkingdom                                           \n",
       "Archaea                 2        2              2       2   \n",
       "Bacteria             2732     1656           2732    2546   \n",
       "Error!!!                3        3              3       3   \n",
       "Eukaryota               8        8              8       8   \n",
       "Viruses                 6        0              6       6   \n",
       "\n",
       "                   HMP Isolation Body Site  Project Status  \\\n",
       "NCBI Superkingdom                                            \n",
       "Archaea                                  2               2   \n",
       "Bacteria                              2732            2732   \n",
       "Error!!!                                 3               3   \n",
       "Eukaryota                                8               8   \n",
       "Viruses                                  6               6   \n",
       "\n",
       "                   Current Finishing Level  NCBI Submission Status  \\\n",
       "NCBI Superkingdom                                                    \n",
       "Archaea                                  2                       2   \n",
       "Bacteria                              1448                    2732   \n",
       "Error!!!                                 3                       3   \n",
       "Eukaryota                                4                       8   \n",
       "Viruses                                  5                       6   \n",
       "\n",
       "                   NCBI Project ID  Genbank ID  Gene Count  IMG/HMP ID  \\\n",
       "NCBI Superkingdom                                                        \n",
       "Archaea                          2           2           2           2   \n",
       "Bacteria                      2732        1448        2732        2732   \n",
       "Error!!!                         3           3           3           3   \n",
       "Eukaryota                        8           4           8           8   \n",
       "Viruses                          6           5           6           6   \n",
       "\n",
       "                   HOMD ID  Sequencing Center  Funding Source  \\\n",
       "NCBI Superkingdom                                               \n",
       "Archaea                  0                  2               2   \n",
       "Bacteria               385               2728            2732   \n",
       "Error!!!                 3                  3               3   \n",
       "Eukaryota                0                  8               8   \n",
       "Viruses                  0                  6               6   \n",
       "\n",
       "                   Strain Repository ID  Genus  species  \n",
       "NCBI Superkingdom                                        \n",
       "Archaea                               2      2        2  \n",
       "Bacteria                           1296   2732     2732  \n",
       "Error!!!                              3      3        3  \n",
       "Eukaryota                             2      8        8  \n",
       "Viruses                               6      6        6  "
      ]
     },
     "execution_count": 17,
     "metadata": {},
     "output_type": "execute_result"
    }
   ],
   "source": [
    "micro.groupby('NCBI Superkingdom').count()"
   ]
  },
  {
   "cell_type": "markdown",
   "metadata": {
    "_uuid": "74c5d180ca16b0f77f6de2de9e673b64c5cc36fd"
   },
   "source": [
    "As Streptococcus species ( which are bacteria) are the ones with 'Error!!!' in NCBI superkingdom, I have replaced this 'Error!!!' with 'Bacteria'."
   ]
  },
  {
   "cell_type": "code",
   "execution_count": 18,
   "metadata": {
    "_uuid": "c32aed8df0c9a51f9223eda1110b7f034b5c7837",
    "scrolled": true
   },
   "outputs": [
    {
     "data": {
      "text/html": [
       "<div>\n",
       "<style scoped>\n",
       "    .dataframe tbody tr th:only-of-type {\n",
       "        vertical-align: middle;\n",
       "    }\n",
       "\n",
       "    .dataframe tbody tr th {\n",
       "        vertical-align: top;\n",
       "    }\n",
       "\n",
       "    .dataframe thead th {\n",
       "        text-align: right;\n",
       "    }\n",
       "</style>\n",
       "<table border=\"1\" class=\"dataframe\">\n",
       "  <thead>\n",
       "    <tr style=\"text-align: right;\">\n",
       "      <th></th>\n",
       "      <th>HMP ID</th>\n",
       "      <th>GOLD ID</th>\n",
       "      <th>Organism Name</th>\n",
       "      <th>Domain</th>\n",
       "      <th>NCBI Superkingdom</th>\n",
       "      <th>HMP Isolation Body Site</th>\n",
       "      <th>Project Status</th>\n",
       "      <th>Current Finishing Level</th>\n",
       "      <th>NCBI Submission Status</th>\n",
       "      <th>NCBI Project ID</th>\n",
       "      <th>Genbank ID</th>\n",
       "      <th>Gene Count</th>\n",
       "      <th>IMG/HMP ID</th>\n",
       "      <th>HOMD ID</th>\n",
       "      <th>Sequencing Center</th>\n",
       "      <th>Funding Source</th>\n",
       "      <th>Strain Repository ID</th>\n",
       "      <th>Genus</th>\n",
       "      <th>species</th>\n",
       "    </tr>\n",
       "  </thead>\n",
       "  <tbody>\n",
       "    <tr>\n",
       "      <th>2478</th>\n",
       "      <td>9176</td>\n",
       "      <td>Gi05045</td>\n",
       "      <td>Streptococcus downei F0415</td>\n",
       "      <td>BACTERIAL</td>\n",
       "      <td>Error!!!</td>\n",
       "      <td>oral</td>\n",
       "      <td>Complete</td>\n",
       "      <td>Level 2: High-Quality Draft</td>\n",
       "      <td>6. annotation (and sequence) public on NCBI site</td>\n",
       "      <td>53567</td>\n",
       "      <td>AEKN00000000</td>\n",
       "      <td>2204</td>\n",
       "      <td>649990005</td>\n",
       "      <td>HOMD: tax_594</td>\n",
       "      <td>J. Craig Venter Institute</td>\n",
       "      <td>NIH-HMP Jumpstart Supplement</td>\n",
       "      <td>BEI HM-475</td>\n",
       "      <td>Streptococcus</td>\n",
       "      <td>downei</td>\n",
       "    </tr>\n",
       "    <tr>\n",
       "      <th>2481</th>\n",
       "      <td>9180</td>\n",
       "      <td>Gi05049</td>\n",
       "      <td>Streptococcus peroris ATCC 700780</td>\n",
       "      <td>BACTERIAL</td>\n",
       "      <td>Error!!!</td>\n",
       "      <td>oral</td>\n",
       "      <td>Complete</td>\n",
       "      <td>Level 2: High-Quality Draft</td>\n",
       "      <td>6. annotation (and sequence) public on NCBI site</td>\n",
       "      <td>53059</td>\n",
       "      <td>AEVF00000000</td>\n",
       "      <td>1638</td>\n",
       "      <td>649990011</td>\n",
       "      <td>HOMD: tax_728</td>\n",
       "      <td>Baylor College of Medicine</td>\n",
       "      <td>NIH-HMP</td>\n",
       "      <td>ATCC 700780</td>\n",
       "      <td>Streptococcus</td>\n",
       "      <td>peroris</td>\n",
       "    </tr>\n",
       "    <tr>\n",
       "      <th>2487</th>\n",
       "      <td>9192</td>\n",
       "      <td>Gi05061</td>\n",
       "      <td>Streptococcus vestibularis F0396</td>\n",
       "      <td>BACTERIAL</td>\n",
       "      <td>Error!!!</td>\n",
       "      <td>oral</td>\n",
       "      <td>Complete</td>\n",
       "      <td>Level 2: High-Quality Draft</td>\n",
       "      <td>6. annotation (and sequence) public on NCBI site</td>\n",
       "      <td>53573</td>\n",
       "      <td>AEKO00000000</td>\n",
       "      <td>1979</td>\n",
       "      <td>649990017</td>\n",
       "      <td>HOMD: tax_21</td>\n",
       "      <td>J. Craig Venter Institute</td>\n",
       "      <td>NIH-NIAID</td>\n",
       "      <td>BEI HM-561</td>\n",
       "      <td>Streptococcus</td>\n",
       "      <td>vestibularis</td>\n",
       "    </tr>\n",
       "  </tbody>\n",
       "</table>\n",
       "</div>"
      ],
      "text/plain": [
       "      HMP ID  GOLD ID                      Organism Name     Domain  \\\n",
       "2478    9176  Gi05045         Streptococcus downei F0415  BACTERIAL   \n",
       "2481    9180  Gi05049  Streptococcus peroris ATCC 700780  BACTERIAL   \n",
       "2487    9192  Gi05061   Streptococcus vestibularis F0396  BACTERIAL   \n",
       "\n",
       "     NCBI Superkingdom HMP Isolation Body Site Project Status  \\\n",
       "2478          Error!!!                    oral       Complete   \n",
       "2481          Error!!!                    oral       Complete   \n",
       "2487          Error!!!                    oral       Complete   \n",
       "\n",
       "          Current Finishing Level  \\\n",
       "2478  Level 2: High-Quality Draft   \n",
       "2481  Level 2: High-Quality Draft   \n",
       "2487  Level 2: High-Quality Draft   \n",
       "\n",
       "                                NCBI Submission Status  NCBI Project ID  \\\n",
       "2478  6. annotation (and sequence) public on NCBI site            53567   \n",
       "2481  6. annotation (and sequence) public on NCBI site            53059   \n",
       "2487  6. annotation (and sequence) public on NCBI site            53573   \n",
       "\n",
       "        Genbank ID  Gene Count  IMG/HMP ID        HOMD ID  \\\n",
       "2478  AEKN00000000        2204   649990005  HOMD: tax_594   \n",
       "2481  AEVF00000000        1638   649990011  HOMD: tax_728   \n",
       "2487  AEKO00000000        1979   649990017   HOMD: tax_21   \n",
       "\n",
       "               Sequencing Center                Funding Source  \\\n",
       "2478   J. Craig Venter Institute  NIH-HMP Jumpstart Supplement   \n",
       "2481  Baylor College of Medicine                       NIH-HMP   \n",
       "2487   J. Craig Venter Institute                     NIH-NIAID   \n",
       "\n",
       "     Strain Repository ID          Genus       species  \n",
       "2478           BEI HM-475  Streptococcus        downei  \n",
       "2481          ATCC 700780  Streptococcus       peroris  \n",
       "2487           BEI HM-561  Streptococcus  vestibularis  "
      ]
     },
     "execution_count": 18,
     "metadata": {},
     "output_type": "execute_result"
    }
   ],
   "source": [
    "micro[micro['NCBI Superkingdom']=='Error!!!']"
   ]
  },
  {
   "cell_type": "code",
   "execution_count": 19,
   "metadata": {
    "_uuid": "a2d3f8ef4d07c9bc951249946c51445b4a153e77"
   },
   "outputs": [],
   "source": [
    "micro['NCBI Superkingdom'].replace('Error!!!', 'Bacteria', inplace=True)"
   ]
  },
  {
   "cell_type": "markdown",
   "metadata": {
    "_uuid": "3d227ac25a1cbd64216b3cb4a0b48cc14b3755d1"
   },
   "source": [
    "To proceed further, I wanted to fill the missing values in Domain and NCBI superkingdom columns. One can infer the result of one column if the other column's value is known. "
   ]
  },
  {
   "cell_type": "code",
   "execution_count": 20,
   "metadata": {
    "_uuid": "98b4f0f2c73d1c15304e6e9ac71d230b666513e3",
    "scrolled": true
   },
   "outputs": [
    {
     "data": {
      "text/plain": [
       "Domain               203\n",
       "NCBI Superkingdom    164\n",
       "dtype: int64"
      ]
     },
     "execution_count": 20,
     "metadata": {},
     "output_type": "execute_result"
    }
   ],
   "source": [
    "micro[['Domain','NCBI Superkingdom']].isnull().sum()"
   ]
  },
  {
   "cell_type": "markdown",
   "metadata": {
    "_uuid": "db444f3517e46cf6d6a51f123a9f7ca9ecdfa4c4"
   },
   "source": [
    "But we cannot fill the missing values in either of these columns, if both values of the 2 columns are missing. For that I checked how many such observations are present. Then I removed those observations."
   ]
  },
  {
   "cell_type": "code",
   "execution_count": 21,
   "metadata": {
    "_uuid": "89510a2196fcc49cc2bec7967127319eb2989fe1",
    "scrolled": false
   },
   "outputs": [
    {
     "data": {
      "text/plain": [
       "17"
      ]
     },
     "execution_count": 21,
     "metadata": {},
     "output_type": "execute_result"
    }
   ],
   "source": [
    "len(micro.loc[micro['Domain'].isnull()& micro['NCBI Superkingdom'].isnull()])"
   ]
  },
  {
   "cell_type": "code",
   "execution_count": 22,
   "metadata": {
    "_uuid": "186549a30724c66140a5c9dac4cdef5ef641a186"
   },
   "outputs": [
    {
     "data": {
      "text/plain": [
       "(2898, 19)"
      ]
     },
     "execution_count": 22,
     "metadata": {},
     "output_type": "execute_result"
    }
   ],
   "source": [
    "micro=micro.drop(micro[(micro['Domain'].isnull()) & (micro['NCBI Superkingdom'].isnull())].index)\n",
    "micro.shape"
   ]
  },
  {
   "cell_type": "markdown",
   "metadata": {
    "_uuid": "b66109ffc9bab691493e68c10d53990de5cc5bd5"
   },
   "source": [
    "**Bug** - As many of the same rows have missing values for NCBI Superkingdom and Domain columns. The following groupby followed by transform steps were not working and giving an error message. To overcome that I first replaced missing value with the string 'NaN' in NCBI Superkingdom and then proceeded to the next step of filling missing value in Domain column ( groupby 'NCBI Superkingdom' and then transform it)."
   ]
  },
  {
   "cell_type": "code",
   "execution_count": 23,
   "metadata": {
    "_uuid": "20ce34d44e0ca31ffc31cccabc846f2b6912770a"
   },
   "outputs": [],
   "source": [
    "micro['NCBI Superkingdom'].fillna('NaN', inplace=True)"
   ]
  },
  {
   "cell_type": "code",
   "execution_count": 24,
   "metadata": {
    "_uuid": "6fbdde0584cc802ced9469267560667dd5fbb315",
    "scrolled": false
   },
   "outputs": [
    {
     "name": "stdout",
     "output_type": "stream",
     "text": [
      "(2898, 19)\n"
     ]
    },
    {
     "data": {
      "text/plain": [
       "0"
      ]
     },
     "execution_count": 24,
     "metadata": {},
     "output_type": "execute_result"
    }
   ],
   "source": [
    "print(micro.shape)\n",
    "micro['Domain'] =micro.groupby('NCBI Superkingdom')['Domain'].transform(lambda x: x.fillna(x.mode().max()))\n",
    "micro['Domain'].isnull().sum()"
   ]
  },
  {
   "cell_type": "markdown",
   "metadata": {
    "_uuid": "d7e6f1e35cdc219ef2aaaffe21e1bbfd0ece7d10"
   },
   "source": [
    "Next, I replaced the string 'NaN' using groupby and transform methods."
   ]
  },
  {
   "cell_type": "code",
   "execution_count": 25,
   "metadata": {
    "_uuid": "dd505cce8b1014b040ddd4c689e37a2117fc4d59"
   },
   "outputs": [
    {
     "data": {
      "text/html": [
       "<div>\n",
       "<style scoped>\n",
       "    .dataframe tbody tr th:only-of-type {\n",
       "        vertical-align: middle;\n",
       "    }\n",
       "\n",
       "    .dataframe tbody tr th {\n",
       "        vertical-align: top;\n",
       "    }\n",
       "\n",
       "    .dataframe thead th {\n",
       "        text-align: right;\n",
       "    }\n",
       "</style>\n",
       "<table border=\"1\" class=\"dataframe\">\n",
       "  <thead>\n",
       "    <tr style=\"text-align: right;\">\n",
       "      <th></th>\n",
       "      <th>HMP ID</th>\n",
       "      <th>GOLD ID</th>\n",
       "      <th>Organism Name</th>\n",
       "      <th>Domain</th>\n",
       "      <th>NCBI Superkingdom</th>\n",
       "      <th>HMP Isolation Body Site</th>\n",
       "      <th>Project Status</th>\n",
       "      <th>Current Finishing Level</th>\n",
       "      <th>NCBI Submission Status</th>\n",
       "      <th>NCBI Project ID</th>\n",
       "      <th>Genbank ID</th>\n",
       "      <th>Gene Count</th>\n",
       "      <th>IMG/HMP ID</th>\n",
       "      <th>HOMD ID</th>\n",
       "      <th>Sequencing Center</th>\n",
       "      <th>Funding Source</th>\n",
       "      <th>Strain Repository ID</th>\n",
       "      <th>Genus</th>\n",
       "      <th>species</th>\n",
       "    </tr>\n",
       "  </thead>\n",
       "  <tbody>\n",
       "  </tbody>\n",
       "</table>\n",
       "</div>"
      ],
      "text/plain": [
       "Empty DataFrame\n",
       "Columns: [HMP ID, GOLD ID, Organism Name, Domain, NCBI Superkingdom, HMP Isolation Body Site, Project Status, Current Finishing Level, NCBI Submission Status, NCBI Project ID, Genbank ID, Gene Count, IMG/HMP ID, HOMD ID, Sequencing Center, Funding Source, Strain Repository ID, Genus, species]\n",
       "Index: []"
      ]
     },
     "execution_count": 25,
     "metadata": {},
     "output_type": "execute_result"
    }
   ],
   "source": [
    "micro['NCBI Superkingdom']= micro.groupby('Domain')['NCBI Superkingdom'].transform(lambda x: x.replace('NaN', x.mode().max()))\n",
    "micro.loc[micro['NCBI Superkingdom']=='NaN']"
   ]
  },
  {
   "cell_type": "markdown",
   "metadata": {
    "_uuid": "99ea175d2f5d5b7a889ac44b7d12ff96077594bb"
   },
   "source": [
    "After getting rid of the missing values in 'NCBI Superkingdom' and 'Domain' columns, I was keen in checking where all the different types of microbes such as Bacteria, eukaryotes, viruses and archeae are located in the human body. From the given probing, it is clear that bacteria are located in all 16 studied human body sites followed by eukaryotes in 5 body sites, followed by viruses and archaea. "
   ]
  },
  {
   "cell_type": "code",
   "execution_count": 26,
   "metadata": {
    "_uuid": "375131dacdefb34016e3b30c8dcc93dcf2f12c71"
   },
   "outputs": [
    {
     "data": {
      "text/plain": [
       "NCBI Superkingdom\n",
       "Bacteria     16\n",
       "Eukaryota     5\n",
       "Viruses       1\n",
       "Archaea       1\n",
       "Name: HMP Isolation Body Site, dtype: int64"
      ]
     },
     "execution_count": 26,
     "metadata": {},
     "output_type": "execute_result"
    }
   ],
   "source": [
    "micro.groupby('NCBI Superkingdom')['HMP Isolation Body Site'].nunique().sort_values(ascending=False)"
   ]
  },
  {
   "cell_type": "markdown",
   "metadata": {
    "_uuid": "d367903aeefd113ac30b3be42a54d6dd0225766c"
   },
   "source": [
    "As bacteria are more ubiquitous in the human body. The diversity is most vast in gastrointentestinal tract."
   ]
  },
  {
   "cell_type": "code",
   "execution_count": 27,
   "metadata": {
    "_uuid": "7f42fe388f15c01ab443f8cd40d9d34e36940d4b"
   },
   "outputs": [
    {
     "data": {
      "text/plain": [
       "array(['oral', 'airways', 'urogenital_tract', 'skin',\n",
       "       'gastrointestinal_tract', 'unknown', 'blood', 'eye', 'liver',\n",
       "       'nose', 'wound', 'bone', 'ear', 'other', 'heart', 'lymph_nodes'],\n",
       "      dtype=object)"
      ]
     },
     "execution_count": 27,
     "metadata": {},
     "output_type": "execute_result"
    }
   ],
   "source": [
    "bac=micro.loc[micro['Domain']=='BACTERIAL']\n",
    "bac['HMP Isolation Body Site'].unique()"
   ]
  },
  {
   "cell_type": "code",
   "execution_count": 28,
   "metadata": {
    "_uuid": "7abad7fb4e0b8c745f97d8697ac6f2e2b2638265"
   },
   "outputs": [
    {
     "data": {
      "text/plain": [
       "Text(0.5,1,'Diversity of bacteria at different body sites')"
      ]
     },
     "execution_count": 28,
     "metadata": {},
     "output_type": "execute_result"
    },
    {
     "data": {
      "image/png": "[encoded data removed]",
      "text/plain": [
       "<Figure size 432x288 with 1 Axes>"
      ]
     },
     "metadata": {},
     "output_type": "display_data"
    }
   ],
   "source": [
    "bac['HMP Isolation Body Site'].value_counts(ascending=False).plot(kind='bar')\n",
    "plt.ylabel('Number of different bacteria')\n",
    "plt.xlabel('Human body sites')\n",
    "plt.title('Diversity of bacteria at different body sites')"
   ]
  },
  {
   "cell_type": "markdown",
   "metadata": {
    "_uuid": "699444e2fd76c7bce66f54edefeb744e67fc3841"
   },
   "source": [
    "More Eukaryotic diversity exist in the blood, followed by skin, airways, , wound, unknown.  "
   ]
  },
  {
   "cell_type": "code",
   "execution_count": 29,
   "metadata": {
    "_uuid": "24c708fca9dfe259e9cdd62dc39e29cb5cdd694b"
   },
   "outputs": [
    {
     "data": {
      "text/plain": [
       "array(['unknown', 'skin', 'blood', 'wound', 'airways'], dtype=object)"
      ]
     },
     "execution_count": 29,
     "metadata": {},
     "output_type": "execute_result"
    }
   ],
   "source": [
    "euk=micro.loc[micro['Domain']=='EUKARYAL']\n",
    "euk['HMP Isolation Body Site'].unique()"
   ]
  },
  {
   "cell_type": "code",
   "execution_count": 30,
   "metadata": {
    "_uuid": "44d067676c4af2b9fd050e27254d9ab5fd83a513",
    "scrolled": true
   },
   "outputs": [
    {
     "data": {
      "text/plain": [
       "Text(0.5,1,'Diversity of eukaryotes at different body sites')"
      ]
     },
     "execution_count": 30,
     "metadata": {},
     "output_type": "execute_result"
    },
    {
     "data": {
      "image/png": "[encoded data removed]",
      "text/plain": [
       "<Figure size 432x288 with 1 Axes>"
      ]
     },
     "metadata": {},
     "output_type": "display_data"
    }
   ],
   "source": [
    "euk['HMP Isolation Body Site'].value_counts(ascending=False).plot(kind='bar')\n",
    "plt.ylabel('Number of different eukaryotes')\n",
    "plt.xlabel('Human body sites')\n",
    "plt.title('Diversity of eukaryotes at different body sites')"
   ]
  },
  {
   "cell_type": "markdown",
   "metadata": {
    "_uuid": "c093a4b68400179b4c84ae3f7f7d6d8a983df5f4"
   },
   "source": [
    "The study didn't find any precise location for viruses. Although, some previous studies have found virueses in blood, skin."
   ]
  },
  {
   "cell_type": "code",
   "execution_count": 31,
   "metadata": {
    "_uuid": "063ed8e8a065d8a869d5874d067df9e0593e81fc"
   },
   "outputs": [
    {
     "data": {
      "text/plain": [
       "array(['unknown'], dtype=object)"
      ]
     },
     "execution_count": 31,
     "metadata": {},
     "output_type": "execute_result"
    }
   ],
   "source": [
    "vir=micro.loc[micro['Domain']=='VIRUS']\n",
    "vir['HMP Isolation Body Site'].unique()"
   ]
  },
  {
   "cell_type": "markdown",
   "metadata": {
    "_uuid": "80f1e7d43dbb13e58cd6f3c65e04a93b5dec6080"
   },
   "source": [
    "Archaea is found primarily in the gastrointestinal tract."
   ]
  },
  {
   "cell_type": "code",
   "execution_count": 32,
   "metadata": {
    "_uuid": "a1eb61796ca06160f81238aa9ca58f20af280aab"
   },
   "outputs": [
    {
     "data": {
      "text/plain": [
       "array(['gastrointestinal_tract'], dtype=object)"
      ]
     },
     "execution_count": 32,
     "metadata": {},
     "output_type": "execute_result"
    }
   ],
   "source": [
    "arc=micro.loc[micro['Domain']=='ARCHAEAL']\n",
    "arc['HMP Isolation Body Site'].unique()"
   ]
  },
  {
   "cell_type": "markdown",
   "metadata": {
    "_uuid": "dd3da6f50b9b3a3b38650544ce670cc7ddfbc8e2"
   },
   "source": [
    "Next question that comes to mind is which is the most ubiquitous organism found in this analysis.  Staphylococcus is the most ubiquitous among all, with 11 habitats- urogenital_tract, skin,  airways, unknown, gastrointestinal_tract, nose, blood, bone, eye, ear, other."
   ]
  },
  {
   "cell_type": "code",
   "execution_count": 33,
   "metadata": {
    "_uuid": "fb6d6bcc37078ab5398b9fe9e839a70c5a442f7f"
   },
   "outputs": [
    {
     "name": "stdout",
     "output_type": "stream",
     "text": [
      "                   HMP Isolation Body Site\n",
      "Genus                                     \n",
      "Staphylococcus                          11\n",
      "Streptococcus                           10\n",
      "Corynebacterium                          9\n",
      "Enterococcus                             9\n",
      "Actinomyces                              9\n",
      "Haemophilus                              8\n",
      "Propionibacterium                        8\n",
      "Fusobacterium                            7\n",
      "Prevotella                               7\n",
      "Porphyromonas                            6\n",
      "Klebsiella                               6\n",
      "Bifidobacterium                          6\n",
      "Lactobacillus                            6\n",
      "Pseudomonas                              6\n",
      "Neisseria                                6\n",
      "Bacteroides                              5\n",
      "Gemella                                  5\n",
      "Rothia                                   5\n"
     ]
    },
    {
     "data": {
      "text/plain": [
       "Text(0.5,1,'Number of habitats for different microorganisms')"
      ]
     },
     "execution_count": 33,
     "metadata": {},
     "output_type": "execute_result"
    },
    {
     "data": {
      "image/png": "[encoded data removed]",
      "text/plain": [
       "<Figure size 432x288 with 1 Axes>"
      ]
     },
     "metadata": {},
     "output_type": "display_data"
    }
   ],
   "source": [
    "z=micro.groupby('Genus')['HMP Isolation Body Site'].nunique().sort_values(ascending=False)\n",
    "y=pd.DataFrame(z)\n",
    "w=y[y['HMP Isolation Body Site']>4]\n",
    "print(w)\n",
    "w.plot(kind='bar')\n",
    "plt.ylabel('Number of different body sites')\n",
    "plt.title('Number of habitats for different microorganisms')"
   ]
  },
  {
   "cell_type": "code",
   "execution_count": 34,
   "metadata": {
    "_uuid": "3e8e9eefa0dd2e37107e65d73e0183b3466e47dc"
   },
   "outputs": [
    {
     "data": {
      "text/plain": [
       "array(['urogenital_tract', 'skin', 'airways', 'unknown',\n",
       "       'gastrointestinal_tract', 'nose', 'blood', 'bone', 'eye', 'ear',\n",
       "       'other'], dtype=object)"
      ]
     },
     "execution_count": 34,
     "metadata": {},
     "output_type": "execute_result"
    }
   ],
   "source": [
    "staph=micro.loc[micro['Genus']=='Staphylococcus']\n",
    "staph['HMP Isolation Body Site'].unique()"
   ]
  },
  {
   "cell_type": "markdown",
   "metadata": {
    "_uuid": "0d019053d777c4f6421679245e78f79926da3460"
   },
   "source": [
    "Just to mention that this study, includes 2882 Bacteria, 8 eukaryotes, 6 viruses and 2 archaea."
   ]
  },
  {
   "cell_type": "code",
   "execution_count": 35,
   "metadata": {
    "_uuid": "ad99c1eb537642452e563ef28508eb36eb4dc467",
    "scrolled": false
   },
   "outputs": [
    {
     "data": {
      "text/plain": [
       "Bacteria     2882\n",
       "Eukaryota       8\n",
       "Viruses         6\n",
       "Archaea         2\n",
       "Name: NCBI Superkingdom, dtype: int64"
      ]
     },
     "execution_count": 35,
     "metadata": {},
     "output_type": "execute_result"
    }
   ],
   "source": [
    "micro['NCBI Superkingdom'].value_counts()"
   ]
  },
  {
   "cell_type": "markdown",
   "metadata": {
    "_uuid": "c0704435af411437ed531e34b4918b8a955ab7e1"
   },
   "source": [
    "Following is the list of names of viruses, eukaryotes and archaea."
   ]
  },
  {
   "cell_type": "code",
   "execution_count": 36,
   "metadata": {
    "_uuid": "66b09a82db2c9c6be367ff8100a91a9bff73094b",
    "scrolled": false
   },
   "outputs": [
    {
     "data": {
      "text/plain": [
       "532            Actinomyces phage vB_Ana_GK1\n",
       "2852    Pseudomonas phage F_HA0480sp/Pa1651\n",
       "2853                Pseudomonas phage JBD18\n",
       "2854                Pseudomonas phage JBD25\n",
       "2855                Pseudomonas phage JBD26\n",
       "2856                Pseudomonas phage JBD67\n",
       "Name: Organism Name, dtype: object"
      ]
     },
     "execution_count": 36,
     "metadata": {},
     "output_type": "execute_result"
    }
   ],
   "source": [
    "viruses= micro[micro['NCBI Superkingdom'] =='Viruses']\n",
    "viruses['Organism Name']"
   ]
  },
  {
   "cell_type": "code",
   "execution_count": 37,
   "metadata": {
    "_uuid": "8988b9f82a44cba5ae07208c0221b67ca7da5d19"
   },
   "outputs": [
    {
     "data": {
      "text/plain": [
       "601                  Exophiala dermatitidis NIH/UT8656\n",
       "983                    Phialophora europaea CBS 101466\n",
       "985     Mucor circinelloides f. circinelloides 1006PhL\n",
       "999                     Pichia kudriavzevii CAB39-6420\n",
       "1065                   Sporothrix schenckii ATCC 58251\n",
       "2555                       Candida glabrata CAB52-4041\n",
       "2556                   Candida tropicalis CAB54-6763-3\n",
       "2557                   Candida parapsilosis CAB50-2638\n",
       "Name: Organism Name, dtype: object"
      ]
     },
     "execution_count": 37,
     "metadata": {},
     "output_type": "execute_result"
    }
   ],
   "source": [
    "eukaryotes= micro[micro['NCBI Superkingdom']=='Eukaryota']\n",
    "eukaryotes['Organism Name']"
   ]
  },
  {
   "cell_type": "code",
   "execution_count": 38,
   "metadata": {
    "_uuid": "55ab4de01d4bb9541ac35295e6a54417d197a161",
    "scrolled": false
   },
   "outputs": [
    {
     "data": {
      "text/plain": [
       "302    Methanobrevibacter smithii DSM 2374\n",
       "303    Methanobrevibacter smithii DSM 2375\n",
       "Name: Organism Name, dtype: object"
      ]
     },
     "execution_count": 38,
     "metadata": {},
     "output_type": "execute_result"
    }
   ],
   "source": [
    "archaea= micro[micro['NCBI Superkingdom']=='Archaea']\n",
    "archaea['Organism Name']"
   ]
  },
  {
   "cell_type": "markdown",
   "metadata": {
    "_uuid": "c1107fc2a3b08628e40d5a0e21d7da4a0dc66fdd"
   },
   "source": [
    "### Conclusion\n",
    "In this notebook we have performed EDA of the Human Microbiome dataset. Found- i) Gastrointestine shows most diversity of microbes, ii) *Streptomyces* sp. HGB0020 shows the maximum gene count in human, iii) *Streptococcus* is most common genus while *Staphylococcus* is most ubiquitous in humans.\n"
   ]
  }
 ],
 "metadata": {
  "kernelspec": {
   "display_name": "Python 3",
   "language": "python",
   "name": "python3"
  },
  "language_info": {
   "codemirror_mode": {
    "name": "ipython",
    "version": 3
   },
   "file_extension": ".py",
   "mimetype": "text/x-python",
   "name": "python",
   "nbconvert_exporter": "python",
   "pygments_lexer": "ipython3",
   "version": "3.6.4"
  }
 },
 "nbformat": 4,
 "nbformat_minor": 1
}
